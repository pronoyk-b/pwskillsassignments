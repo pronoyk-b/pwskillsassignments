{
 "cells": [
  {
   "cell_type": "markdown",
   "id": "d7925c3c",
   "metadata": {},
   "source": [
    "### Q1. Explain Class and Object with respect to Object-Oriented Programming. Give a suitable example."
   ]
  },
  {
   "cell_type": "markdown",
   "id": "5ce98aa0",
   "metadata": {},
   "source": [
    "In object oriented programming, Class is the individual blueprint of a Object, and methods. Object is a instance of a class, which is also a real world entity."
   ]
  },
  {
   "cell_type": "code",
   "execution_count": 3,
   "id": "bd5c2786",
   "metadata": {},
   "outputs": [],
   "source": [
    "class information():\n",
    "    def __init__(self, IDs):\n",
    "        self.ID=IDs        \n",
    "        \n",
    "student1=information(101)        "
   ]
  },
  {
   "cell_type": "markdown",
   "id": "84de4e7b",
   "metadata": {},
   "source": [
    "In the above example, information is the class in which we can define any method, such as __init__ <br>\n",
    "student1 is the object belongs in the class information. By using the object we can store multiple datas in the information class."
   ]
  },
  {
   "cell_type": "markdown",
   "id": "862331b5",
   "metadata": {},
   "source": [
    "### Q2. Name the four pillars of OOPs."
   ]
  },
  {
   "cell_type": "markdown",
   "id": "1bd3b494",
   "metadata": {},
   "source": [
    "4 Pillars of OOPS are:\n",
    "1. Inheritance <br>\n",
    "2. Encapsulation <br>\n",
    "3. Polymorphism <br>\n",
    "4. Abstraction"
   ]
  },
  {
   "cell_type": "markdown",
   "id": "3a300132",
   "metadata": {},
   "source": [
    "### Q3. Explain why the __init__() function is used. Give a suitable example."
   ]
  },
  {
   "cell_type": "markdown",
   "id": "de506757",
   "metadata": {},
   "source": [
    "init() function is used to store a data inside a class using object. It initiate the object restore the data as inside a class."
   ]
  },
  {
   "cell_type": "code",
   "execution_count": 4,
   "id": "0ccff6dd",
   "metadata": {},
   "outputs": [],
   "source": [
    "class information():\n",
    "    def __init__(self, Name):\n",
    "        self.Name=Name  "
   ]
  },
  {
   "cell_type": "markdown",
   "id": "ca7549f9",
   "metadata": {},
   "source": [
    "By using this method, we can initiate a v variable inside the information class called name."
   ]
  },
  {
   "cell_type": "markdown",
   "id": "3572dd87",
   "metadata": {},
   "source": [
    "### Q4. Why self is used in OOPs?"
   ]
  },
  {
   "cell_type": "markdown",
   "id": "d86c0d0b",
   "metadata": {},
   "source": [
    "Self is used to give a zero positional argument which is also not a reserved keyword. We can use any non reserved keyword to give the zero positional argument in OOPS. For Example,"
   ]
  },
  {
   "cell_type": "code",
   "execution_count": 5,
   "id": "46e52c94",
   "metadata": {},
   "outputs": [],
   "source": [
    "class information():\n",
    "    def __init__(zero_pos_argument, Name):\n",
    "        zero_pos_argument.Name=Name  "
   ]
  },
  {
   "cell_type": "markdown",
   "id": "504ccefa",
   "metadata": {},
   "source": [
    "### Q5. What is inheritance? Give an example for each type of inheritance."
   ]
  },
  {
   "cell_type": "markdown",
   "id": "7835ed67",
   "metadata": {},
   "source": [
    "Inhertance is the way or method by which we can stack one class to another class by retainging the same implimentation methods."
   ]
  },
  {
   "cell_type": "code",
   "execution_count": null,
   "id": "48d5cc28",
   "metadata": {},
   "outputs": [],
   "source": []
  }
 ],
 "metadata": {
  "kernelspec": {
   "display_name": "Python 3 (ipykernel)",
   "language": "python",
   "name": "python3"
  },
  "language_info": {
   "codemirror_mode": {
    "name": "ipython",
    "version": 3
   },
   "file_extension": ".py",
   "mimetype": "text/x-python",
   "name": "python",
   "nbconvert_exporter": "python",
   "pygments_lexer": "ipython3",
   "version": "3.9.12"
  }
 },
 "nbformat": 4,
 "nbformat_minor": 5
}
